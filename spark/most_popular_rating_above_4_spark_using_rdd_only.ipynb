{
 "cells": [
  {
   "cell_type": "markdown",
   "metadata": {},
   "source": [
    "# Most popular rating "
   ]
  },
  {
   "cell_type": "code",
   "execution_count": 1,
   "metadata": {},
   "outputs": [],
   "source": [
    "import findspark\n",
    "findspark.init()\n",
    "\n",
    "import pyspark\n",
    "from pyspark import sql\n",
    "\n",
    "import pandas as pd"
   ]
  },
  {
   "cell_type": "code",
   "execution_count": 115,
   "metadata": {
    "scrolled": true
   },
   "outputs": [],
   "source": [
    "conf = SparkConf().setAppName(\"MostPopularMovieWithRatingAbove4RDDOnly\")\n",
    "# sc = SparkContext(conf=conf)"
   ]
  },
  {
   "cell_type": "markdown",
   "metadata": {},
   "source": [
    "## Using lambdas only"
   ]
  },
  {
   "cell_type": "markdown",
   "metadata": {},
   "source": [
    "### Load Data"
   ]
  },
  {
   "cell_type": "code",
   "execution_count": 6,
   "metadata": {},
   "outputs": [],
   "source": [
    "path_ratings = r\"/home/blake/PycharmProjects/BigDataMovies/the-movies-dataset/ratings_small.csv\"\n",
    "path_movies_metadata = r\"/home/blake/PycharmProjects/BigDataMovies/the-movies-dataset/movies_metadata.csv\"\n",
    "\n",
    "ratings = sc.textFile(path_ratings)\n",
    "movies_metadata = sc.textFile(path_movies_metadata)"
   ]
  },
  {
   "cell_type": "markdown",
   "metadata": {},
   "source": [
    "### Define useful functions"
   ]
  },
  {
   "cell_type": "code",
   "execution_count": 7,
   "metadata": {},
   "outputs": [],
   "source": [
    "def header_dropper(rdd: pyspark.rdd.RDD):\n",
    "    header = rdd.first()\n",
    "    print(header)\n",
    "    no_header_rdd = rdd.filter(lambda row: row != header)\n",
    "    return no_header_rdd"
   ]
  },
  {
   "cell_type": "markdown",
   "metadata": {},
   "source": [
    "### Drop Headers"
   ]
  },
  {
   "cell_type": "code",
   "execution_count": 65,
   "metadata": {},
   "outputs": [
    {
     "name": "stdout",
     "output_type": "stream",
     "text": [
      "1,31,2.5,1260759144\n"
     ]
    }
   ],
   "source": [
    "ratings = header_dropper(ratings)"
   ]
  },
  {
   "cell_type": "code",
   "execution_count": 66,
   "metadata": {
    "scrolled": true
   },
   "outputs": [
    {
     "name": "stdout",
     "output_type": "stream",
     "text": [
      "Row(adult='False', belongs_to_collection=\"{'id': 10194, 'name': 'Toy Story Collection', 'poster_path': '/7G9915LfUQ2lVfwMEEhDsn3kT4B.jpg', 'backdrop_path': '/9FBwqcd9IRruEDUrTdcaafOMKUq.jpg'}\", budget='30000000', genres=\"[{'id': 16, 'name': 'Animation'}, {'id': 35, 'name': 'Comedy'}, {'id': 10751, 'name': 'Family'}]\", homepage='http://toystory.disney.com/toy-story', id='862', imdb_id='tt0114709', original_language='en', original_title='Toy Story', overview=\"Led by Woody, Andy's toys live happily in his room until Andy's birthday brings Buzz Lightyear onto the scene. Afraid of losing his place in Andy's heart, Woody plots against Buzz. But when circumstances separate Buzz and Woody from their owner, the duo eventually learns to put aside their differences.\", popularity='21.946943', poster_path='/rhIRbceoE9lR4veEXuwCC2wARtG.jpg', production_companies=\"[{'name': 'Pixar Animation Studios', 'id': 3}]\", production_countries=\"[{'iso_3166_1': 'US', 'name': 'United States of America'}]\", release_date='1995-10-30', revenue='373554033', runtime='81.0', spoken_languages=\"[{'iso_639_1': 'en', 'name': 'English'}]\", status='Released', tagline=None, title='Toy Story', video='False', vote_average='7.7', vote_count='5415')\n"
     ]
    }
   ],
   "source": [
    "movies_metadata = header_dropper(movies_metadata)"
   ]
  },
  {
   "cell_type": "markdown",
   "metadata": {},
   "source": [
    "### Analysis"
   ]
  },
  {
   "cell_type": "markdown",
   "metadata": {},
   "source": [
    "#### Create an RDD with highest ratings with count of ratings above 50"
   ]
  },
  {
   "cell_type": "code",
   "execution_count": 67,
   "metadata": {
    "scrolled": true
   },
   "outputs": [
    {
     "data": {
      "text/plain": [
       "['1,1029,3.0,1260759179',\n",
       " '1,1061,3.0,1260759182',\n",
       " '1,1129,2.0,1260759185',\n",
       " '1,1172,4.0,1260759205',\n",
       " '1,1263,2.0,1260759151']"
      ]
     },
     "execution_count": 67,
     "metadata": {},
     "output_type": "execute_result"
    }
   ],
   "source": [
    "ratings.take(5)"
   ]
  },
  {
   "cell_type": "code",
   "execution_count": 68,
   "metadata": {},
   "outputs": [
    {
     "data": {
      "text/plain": [
       "[['1029', '3.0'],\n",
       " ['1061', '3.0'],\n",
       " ['1129', '2.0'],\n",
       " ['1172', '4.0'],\n",
       " ['1263', '2.0']]"
      ]
     },
     "execution_count": 68,
     "metadata": {},
     "output_type": "execute_result"
    }
   ],
   "source": [
    "movie_id_and_rating = ratings.map(lambda line: line.split(',')[1:3])\n",
    "movie_id_and_rating.take(5)"
   ]
  },
  {
   "cell_type": "code",
   "execution_count": 69,
   "metadata": {},
   "outputs": [
    {
     "data": {
      "text/plain": [
       "[(1029, (3.0, 1)),\n",
       " (1061, (3.0, 1)),\n",
       " (1129, (2.0, 1)),\n",
       " (1172, (4.0, 1)),\n",
       " (1263, (2.0, 1)),\n",
       " (1287, (2.0, 1))]"
      ]
     },
     "execution_count": 69,
     "metadata": {},
     "output_type": "execute_result"
    }
   ],
   "source": [
    "# Result: movie_id: int, (rating: float, count: int)\n",
    "movie_id_and_rating_right_formats = movie_id_and_rating.map(\n",
    "    lambda line: (int(line[0]), (float(line[1]), 1)))\n",
    "movie_id_and_rating_right_formats.take(6)"
   ]
  },
  {
   "cell_type": "code",
   "execution_count": 70,
   "metadata": {},
   "outputs": [],
   "source": [
    "movie_id_and_sum_rating_and_sum_count = \\\n",
    "    movie_id_and_rating_right_formats\\\n",
    "        .reduceByKey(lambda row_a, row_b: (row_a[0]+row_b[0], row_a[1]+row_b[1]))\n",
    "movie_id_and_sum_rating_and_sum_count.collect();"
   ]
  },
  {
   "cell_type": "code",
   "execution_count": 71,
   "metadata": {},
   "outputs": [
    {
     "data": {
      "text/plain": [
       "[(1172, (4.260869565217392, 46)),\n",
       " (2150, (3.513888888888889, 36)),\n",
       " (2294, (3.2735849056603774, 53)),\n",
       " (2968, (3.5697674418604652, 43)),\n",
       " (10, (3.4508196721311477, 122))]"
      ]
     },
     "execution_count": 71,
     "metadata": {},
     "output_type": "execute_result"
    }
   ],
   "source": [
    "movie_id_and_avg_rating_and_count = \\\n",
    "    movie_id_and_sum_rating_and_sum_count\\\n",
    "        .map(lambda row: (row[0], (row[1][0]/row[1][1], row[1][1])))\n",
    "movie_id_and_avg_rating_and_count.take(5)"
   ]
  },
  {
   "cell_type": "code",
   "execution_count": 72,
   "metadata": {},
   "outputs": [
    {
     "data": {
      "text/plain": [
       "[(2294, (3.2735849056603774, 53)),\n",
       " (10, (3.4508196721311477, 122)),\n",
       " (50, (4.370646766169155, 201)),\n",
       " (52, (3.6372549019607843, 51)),\n",
       " (62, (3.689655172413793, 87))]"
      ]
     },
     "execution_count": 72,
     "metadata": {},
     "output_type": "execute_result"
    }
   ],
   "source": [
    "movie_id_and_avg_rating_and_count_above_50 = \\\n",
    "    movie_id_and_avg_rating_and_count\\\n",
    "        .filter(lambda row: row[1][1] >= 50)\n",
    "movie_id_and_avg_rating_and_count_above_50.take(5)"
   ]
  },
  {
   "cell_type": "code",
   "execution_count": 73,
   "metadata": {},
   "outputs": [
    {
     "data": {
      "text/plain": [
       "[(858, (4.4875, 200)),\n",
       " (318, (4.487138263665595, 311)),\n",
       " (969, (4.42, 50)),\n",
       " (913, (4.387096774193548, 62)),\n",
       " (1221, (4.385185185185185, 135)),\n",
       " (50, (4.370646766169155, 201)),\n",
       " (1228, (4.35, 50)),\n",
       " (1252, (4.3355263157894735, 76)),\n",
       " (904, (4.315217391304348, 92)),\n",
       " (1203, (4.304054054054054, 74))]"
      ]
     },
     "execution_count": 73,
     "metadata": {},
     "output_type": "execute_result"
    }
   ],
   "source": [
    "movie_id_and_avg_rating_and_count_above_50_ordered_by_rating = \\\n",
    "    movie_id_and_avg_rating_and_count_above_50\\\n",
    "        .sortBy(lambda row: row[1][0], False)\n",
    "movie_id_and_avg_rating_and_count_above_50_ordered_by_rating.take(10)"
   ]
  },
  {
   "cell_type": "markdown",
   "metadata": {},
   "source": [
    "#### Create an RDD movie_id and movie_title"
   ]
  },
  {
   "cell_type": "code",
   "execution_count": 74,
   "metadata": {
    "scrolled": true
   },
   "outputs": [
    {
     "data": {
      "text/plain": [
       "pyspark.rdd.RDD"
      ]
     },
     "execution_count": 74,
     "metadata": {},
     "output_type": "execute_result"
    }
   ],
   "source": [
    "# movie_medadata file is actually quite broken and it'd be hard \n",
    "#to read it and clean it in a form of RDD so I will use \n",
    "# DF for convenience and transform it to RDD.\n",
    "movies_metadata = spark.read.csv(\n",
    "    path=path_movies_metadata,\n",
    "    header=\"true\",\n",
    "    inferSchema=\"true\",\n",
    "#     quote=\"\"\n",
    ")\n",
    "\n",
    "movies_metadata = movies_metadata.rdd\n",
    "type(movies_metadata)"
   ]
  },
  {
   "cell_type": "code",
   "execution_count": 103,
   "metadata": {},
   "outputs": [],
   "source": [
    "def get_id_and_title(line):\n",
    "    movie_id = line['id']\n",
    "    try:\n",
    "        movie_id = int(movie_id)\n",
    "    except (TypeError, ValueError):\n",
    "        pass\n",
    "    movie_titile = line['title']\n",
    "    return movie_id, movie_titile"
   ]
  },
  {
   "cell_type": "code",
   "execution_count": 114,
   "metadata": {},
   "outputs": [],
   "source": [
    "movide_id_and_title = movies_metadata.map(get_id_and_title)"
   ]
  },
  {
   "cell_type": "markdown",
   "metadata": {},
   "source": [
    "#### Join the above RDDs and return the final result"
   ]
  },
  {
   "cell_type": "code",
   "execution_count": 105,
   "metadata": {},
   "outputs": [
    {
     "data": {
      "text/plain": [
       "(858, (4.4875, 200))"
      ]
     },
     "execution_count": 105,
     "metadata": {},
     "output_type": "execute_result"
    }
   ],
   "source": [
    "movie_id_and_avg_rating_and_count_above_50_ordered_by_rating.first()"
   ]
  },
  {
   "cell_type": "code",
   "execution_count": 106,
   "metadata": {},
   "outputs": [
    {
     "data": {
      "text/plain": [
       "(862, 'Toy Story')"
      ]
     },
     "execution_count": 106,
     "metadata": {},
     "output_type": "execute_result"
    }
   ],
   "source": [
    "movide_id_and_title.first()"
   ]
  },
  {
   "cell_type": "code",
   "execution_count": 112,
   "metadata": {
    "scrolled": true
   },
   "outputs": [],
   "source": [
    "results = movie_id_and_avg_rating_and_count_above_50_ordered_by_rating\\\n",
    "    .join(movide_id_and_title)"
   ]
  },
  {
   "cell_type": "markdown",
   "metadata": {},
   "source": [
    "#### RESULTS"
   ]
  },
  {
   "cell_type": "code",
   "execution_count": 113,
   "metadata": {},
   "outputs": [
    {
     "data": {
      "text/plain": [
       "[(858, ((4.4875, 200), 'Sleepless in Seattle')),\n",
       " (913, ((4.387096774193548, 62), 'The Thomas Crown Affair')),\n",
       " (2959,\n",
       "  ((4.178217821782178, 202), 'First came love... then came Reverend Frank.')),\n",
       " (1089, ((4.162878787878788, 132), 'Point Break')),\n",
       " (5995, ((4.131147540983607, 61), 'Miffo')),\n",
       " (110, ((3.9451754385964914, 228), 'Three Colors: Red')),\n",
       " (924, ((3.886178861788618, 123), 'Dawn of the Dead')),\n",
       " (1265, ((3.8393939393939394, 165), 'Bridge to Terabithia')),\n",
       " (5060, ((3.7457627118644066, 59), 'Carry On Screaming')),\n",
       " (1584, ((3.7282608695652173, 92), 'School of Rock'))]"
      ]
     },
     "execution_count": 113,
     "metadata": {},
     "output_type": "execute_result"
    }
   ],
   "source": [
    "results.take(10)"
   ]
  },
  {
   "cell_type": "markdown",
   "metadata": {},
   "source": [
    "## More readable version using defined functions"
   ]
  },
  {
   "cell_type": "code",
   "execution_count": null,
   "metadata": {},
   "outputs": [],
   "source": []
  }
 ],
 "metadata": {
  "kernelspec": {
   "display_name": "Python [conda env:base-all_small_projects] *",
   "language": "python",
   "name": "conda-env-base-all_small_projects-py"
  },
  "language_info": {
   "codemirror_mode": {
    "name": "ipython",
    "version": 3
   },
   "file_extension": ".py",
   "mimetype": "text/x-python",
   "name": "python",
   "nbconvert_exporter": "python",
   "pygments_lexer": "ipython3",
   "version": "3.7.5"
  },
  "latex_envs": {
   "LaTeX_envs_menu_present": true,
   "autoclose": true,
   "autocomplete": true,
   "bibliofile": "biblio.bib",
   "cite_by": "apalike",
   "current_citInitial": 1,
   "eqLabelWithNumbers": true,
   "eqNumInitial": 1,
   "hotkeys": {
    "equation": "Ctrl-E",
    "itemize": "Ctrl-I"
   },
   "labels_anchors": false,
   "latex_user_defs": false,
   "report_style_numbering": false,
   "user_envs_cfg": false
  },
  "toc": {
   "base_numbering": 1,
   "nav_menu": {},
   "number_sections": true,
   "sideBar": true,
   "skip_h1_title": false,
   "title_cell": "Table of Contents",
   "title_sidebar": "Contents",
   "toc_cell": false,
   "toc_position": {},
   "toc_section_display": true,
   "toc_window_display": false
  }
 },
 "nbformat": 4,
 "nbformat_minor": 4
}
