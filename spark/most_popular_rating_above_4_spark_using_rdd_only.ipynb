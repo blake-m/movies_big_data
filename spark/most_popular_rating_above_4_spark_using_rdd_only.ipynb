{
 "cells": [
  {
   "cell_type": "markdown",
   "metadata": {},
   "source": [
    "# Most popular rating - RDD only\n",
    "\n",
    "This notebook finds the highest rated movies having at least 500 ratings.\n",
    "\n",
    "First, it's done using lambdas only, then I do the same thing again creating full functions."
   ]
  },
  {
   "cell_type": "code",
   "execution_count": 1,
   "metadata": {},
   "outputs": [],
   "source": [
    "import findspark\n",
    "findspark.init()\n",
    "\n",
    "import pyspark\n",
    "from pyspark import sql\n",
    "\n",
    "import pandas as pd"
   ]
  },
  {
   "cell_type": "code",
   "execution_count": 2,
   "metadata": {
    "scrolled": true
   },
   "outputs": [],
   "source": [
    "conf = SparkConf().setAppName(\"MostPopularMovieWithRatingAbove4RDDOnly\")\n",
    "# sc = SparkContext(conf=conf)"
   ]
  },
  {
   "cell_type": "markdown",
   "metadata": {},
   "source": [
    "## Using lambdas only"
   ]
  },
  {
   "cell_type": "markdown",
   "metadata": {},
   "source": [
    "### Load Data"
   ]
  },
  {
   "cell_type": "code",
   "execution_count": 3,
   "metadata": {},
   "outputs": [],
   "source": [
    "path_ratings = r\"/home/blake/PycharmProjects/BigDataMovies/the-movies-dataset/ratings.csv\"\n",
    "path_movies_metadata = r\"/home/blake/PycharmProjects/BigDataMovies/the-movies-dataset/movies_metadata.csv\"\n",
    "\n",
    "ratings = sc.textFile(path_ratings)\n",
    "movies_metadata = sc.textFile(path_movies_metadata)"
   ]
  },
  {
   "cell_type": "markdown",
   "metadata": {},
   "source": [
    "### Define useful functions"
   ]
  },
  {
   "cell_type": "code",
   "execution_count": 4,
   "metadata": {},
   "outputs": [],
   "source": [
    "def header_dropper(rdd: pyspark.rdd.RDD):\n",
    "    header = rdd.first()\n",
    "    print(header)\n",
    "    no_header_rdd = rdd.filter(lambda row: row != header)\n",
    "    return no_header_rdd"
   ]
  },
  {
   "cell_type": "code",
   "execution_count": 5,
   "metadata": {},
   "outputs": [],
   "source": [
    "def get_id_and_title(line):\n",
    "    movie_id = line['id']\n",
    "    try:\n",
    "        movie_id = int(movie_id)\n",
    "    except (TypeError, ValueError):\n",
    "        pass\n",
    "    movie_titile = line['title']\n",
    "    return movie_id, movie_titile"
   ]
  },
  {
   "cell_type": "markdown",
   "metadata": {},
   "source": [
    "### Drop Headers"
   ]
  },
  {
   "cell_type": "code",
   "execution_count": 6,
   "metadata": {},
   "outputs": [
    {
     "name": "stdout",
     "output_type": "stream",
     "text": [
      "userId,movieId,rating,timestamp\n"
     ]
    }
   ],
   "source": [
    "ratings = header_dropper(ratings)"
   ]
  },
  {
   "cell_type": "code",
   "execution_count": 7,
   "metadata": {
    "scrolled": true
   },
   "outputs": [
    {
     "name": "stdout",
     "output_type": "stream",
     "text": [
      "adult,belongs_to_collection,budget,genres,homepage,id,imdb_id,original_language,original_title,overview,popularity,poster_path,production_companies,production_countries,release_date,revenue,runtime,spoken_languages,status,tagline,title,video,vote_average,vote_count\n"
     ]
    }
   ],
   "source": [
    "movies_metadata = header_dropper(movies_metadata)"
   ]
  },
  {
   "cell_type": "markdown",
   "metadata": {},
   "source": [
    "### Analysis"
   ]
  },
  {
   "cell_type": "markdown",
   "metadata": {},
   "source": [
    "#### Create an RDD with highest ratings with count of ratings above 500"
   ]
  },
  {
   "cell_type": "code",
   "execution_count": 8,
   "metadata": {
    "scrolled": true
   },
   "outputs": [
    {
     "data": {
      "text/plain": [
       "['1,110,1.0,1425941529',\n",
       " '1,147,4.5,1425942435',\n",
       " '1,858,5.0,1425941523',\n",
       " '1,1221,5.0,1425941546',\n",
       " '1,1246,5.0,1425941556']"
      ]
     },
     "execution_count": 8,
     "metadata": {},
     "output_type": "execute_result"
    }
   ],
   "source": [
    "ratings.take(5)"
   ]
  },
  {
   "cell_type": "code",
   "execution_count": 9,
   "metadata": {},
   "outputs": [
    {
     "data": {
      "text/plain": [
       "[['110', '1.0'],\n",
       " ['147', '4.5'],\n",
       " ['858', '5.0'],\n",
       " ['1221', '5.0'],\n",
       " ['1246', '5.0']]"
      ]
     },
     "execution_count": 9,
     "metadata": {},
     "output_type": "execute_result"
    }
   ],
   "source": [
    "movie_id_and_rating = ratings.map(lambda line: line.split(',')[1:3])\n",
    "movie_id_and_rating.take(5)"
   ]
  },
  {
   "cell_type": "code",
   "execution_count": 10,
   "metadata": {},
   "outputs": [
    {
     "data": {
      "text/plain": [
       "[(110, (1.0, 1)),\n",
       " (147, (4.5, 1)),\n",
       " (858, (5.0, 1)),\n",
       " (1221, (5.0, 1)),\n",
       " (1246, (5.0, 1)),\n",
       " (1968, (4.0, 1))]"
      ]
     },
     "execution_count": 10,
     "metadata": {},
     "output_type": "execute_result"
    }
   ],
   "source": [
    "# Result: movie_id: int, (rating: float, count: int)\n",
    "movie_id_and_rating_right_formats = movie_id_and_rating.map(\n",
    "    lambda line: (int(line[0]), (float(line[1]), 1)))\n",
    "movie_id_and_rating_right_formats.take(6)"
   ]
  },
  {
   "cell_type": "code",
   "execution_count": 11,
   "metadata": {},
   "outputs": [],
   "source": [
    "movie_id_and_sum_rating_and_sum_count = \\\n",
    "    movie_id_and_rating_right_formats\\\n",
    "        .reduceByKey(lambda row_a, row_b: (row_a[0]+row_b[0], row_a[1]+row_b[1]))\n",
    "movie_id_and_sum_rating_and_sum_count.collect();"
   ]
  },
  {
   "cell_type": "code",
   "execution_count": 12,
   "metadata": {},
   "outputs": [
    {
     "data": {
      "text/plain": [
       "[(110, (4.016057252826558, 66512)),\n",
       " (858, (4.339810758717364, 57070)),\n",
       " (91542, (3.738952195664258, 7196)),\n",
       " (112552, (4.120283855706682, 8455)),\n",
       " (1210, (3.9896115699843735, 62714))]"
      ]
     },
     "execution_count": 12,
     "metadata": {},
     "output_type": "execute_result"
    }
   ],
   "source": [
    "movie_id_and_avg_rating_and_count = \\\n",
    "    movie_id_and_sum_rating_and_sum_count\\\n",
    "        .map(lambda row: (row[0], (row[1][0]/row[1][1], row[1][1])))\n",
    "movie_id_and_avg_rating_and_count.take(5)"
   ]
  },
  {
   "cell_type": "code",
   "execution_count": 13,
   "metadata": {},
   "outputs": [
    {
     "data": {
      "text/plain": [
       "[(110, (4.016057252826558, 66512)),\n",
       " (858, (4.339810758717364, 57070)),\n",
       " (91542, (3.738952195664258, 7196)),\n",
       " (112552, (4.120283855706682, 8455)),\n",
       " (1210, (3.9896115699843735, 62714))]"
      ]
     },
     "execution_count": 13,
     "metadata": {},
     "output_type": "execute_result"
    }
   ],
   "source": [
    "movie_id_and_avg_rating_and_count_above_500 = \\\n",
    "    movie_id_and_avg_rating_and_count\\\n",
    "        .filter(lambda row: row[1][1] >= 500)\n",
    "movie_id_and_avg_rating_and_count_above_500.take(5)"
   ]
  },
  {
   "cell_type": "code",
   "execution_count": 14,
   "metadata": {},
   "outputs": [
    {
     "data": {
      "text/plain": [
       "[(159817, (4.478779840848806, 754)),\n",
       " (318, (4.429014514393623, 91082)),\n",
       " (858, (4.339810758717364, 57070)),\n",
       " (50, (4.300188962561792, 59271)),\n",
       " (527, (4.266530696698294, 67662)),\n",
       " (1221, (4.263475012950189, 36679)),\n",
       " (2019, (4.255073602972702, 13994)),\n",
       " (904, (4.232552144363722, 21335)),\n",
       " (1203, (4.231208570075758, 16896)),\n",
       " (2959, (4.2307160469145675, 60024))]"
      ]
     },
     "execution_count": 14,
     "metadata": {},
     "output_type": "execute_result"
    }
   ],
   "source": [
    "movie_id_and_avg_rating_and_count_above_500_ordered_by_rating = \\\n",
    "    movie_id_and_avg_rating_and_count_above_500\\\n",
    "        .sortBy(lambda row: row[1][0], False)\n",
    "movie_id_and_avg_rating_and_count_above_500_ordered_by_rating.take(10)"
   ]
  },
  {
   "cell_type": "markdown",
   "metadata": {},
   "source": [
    "#### Create an RDD movie_id and movie_title"
   ]
  },
  {
   "cell_type": "code",
   "execution_count": 15,
   "metadata": {
    "scrolled": true
   },
   "outputs": [
    {
     "data": {
      "text/plain": [
       "pyspark.rdd.RDD"
      ]
     },
     "execution_count": 15,
     "metadata": {},
     "output_type": "execute_result"
    }
   ],
   "source": [
    "# movie_medadata file is actually quite broken and it'd be hard \n",
    "#to read it and clean it in a form of RDD so I will use \n",
    "# DF for convenience and transform it to RDD.\n",
    "movies_metadata = spark.read.csv(\n",
    "    path=path_movies_metadata,\n",
    "    header=\"true\",\n",
    "    inferSchema=\"true\",\n",
    "#     quote=\"\"\n",
    ")\n",
    "\n",
    "movies_metadata = movies_metadata.rdd\n",
    "type(movies_metadata)"
   ]
  },
  {
   "cell_type": "code",
   "execution_count": 16,
   "metadata": {},
   "outputs": [],
   "source": [
    "movide_id_and_title = movies_metadata.map(get_id_and_title)"
   ]
  },
  {
   "cell_type": "markdown",
   "metadata": {},
   "source": [
    "#### Join the above RDDs and return the final result"
   ]
  },
  {
   "cell_type": "code",
   "execution_count": 17,
   "metadata": {},
   "outputs": [
    {
     "data": {
      "text/plain": [
       "(159817, (4.478779840848806, 754))"
      ]
     },
     "execution_count": 17,
     "metadata": {},
     "output_type": "execute_result"
    }
   ],
   "source": [
    "movie_id_and_avg_rating_and_count_above_500_ordered_by_rating.first()"
   ]
  },
  {
   "cell_type": "code",
   "execution_count": 18,
   "metadata": {},
   "outputs": [
    {
     "data": {
      "text/plain": [
       "(862, 'Toy Story')"
      ]
     },
     "execution_count": 18,
     "metadata": {},
     "output_type": "execute_result"
    }
   ],
   "source": [
    "movide_id_and_title.first()"
   ]
  },
  {
   "cell_type": "code",
   "execution_count": 19,
   "metadata": {
    "scrolled": true
   },
   "outputs": [],
   "source": [
    "results = movie_id_and_avg_rating_and_count_above_500_ordered_by_rating\\\n",
    "    .join(movide_id_and_title)"
   ]
  },
  {
   "cell_type": "markdown",
   "metadata": {},
   "source": [
    "#### RESULTS"
   ]
  },
  {
   "cell_type": "code",
   "execution_count": 20,
   "metadata": {
    "scrolled": true
   },
   "outputs": [
    {
     "data": {
      "text/plain": [
       "[(527, ((4.266530696698294, 67662), 'Once Were Warriors')),\n",
       " (58559, ((4.182070707070707, 39600), 'Confession of a Child of the Century')),\n",
       " (899, ((4.02758537371134, 12416), 'Broken Blossoms')),\n",
       " (3007, ((3.9069042316258353, 2245), 'Woman in the Moon')),\n",
       " (1643, ((3.8609756097560974, 2870), 'Last Tango in Paris')),\n",
       " (5177, ((3.8438320209973753, 762), 'Dark Horse')),\n",
       " (5890, ((3.8422360248447207, 805), 'Azumi 2: Death or Love')),\n",
       " (2728, ((3.8367664877964343, 5777), 'Postal')),\n",
       " (26133, ((3.813053097345133, 1356), 'Tuesdays with Morrie')),\n",
       " (62, ((3.750324282255275, 23128), '2001: A Space Odyssey'))]"
      ]
     },
     "execution_count": 20,
     "metadata": {},
     "output_type": "execute_result"
    }
   ],
   "source": [
    "results.take(10)"
   ]
  },
  {
   "cell_type": "markdown",
   "metadata": {},
   "source": [
    "## More readable version using defined functions"
   ]
  },
  {
   "cell_type": "code",
   "execution_count": 21,
   "metadata": {},
   "outputs": [],
   "source": [
    "path_ratings = r\"/home/blake/PycharmProjects/BigDataMovies/the-movies-dataset/ratings_small.csv\"\n",
    "path_movies_metadata = r\"/home/blake/PycharmProjects/BigDataMovies/the-movies-dataset/movies_metadata.csv\"\n",
    "\n",
    "ratings = sc.textFile(path_ratings)\n",
    "movies_metadata = sc.textFile(path_movies_metadata)"
   ]
  },
  {
   "cell_type": "markdown",
   "metadata": {},
   "source": [
    "### Define useful functions"
   ]
  },
  {
   "cell_type": "code",
   "execution_count": 22,
   "metadata": {},
   "outputs": [],
   "source": [
    "def header_dropper(rdd: pyspark.rdd.RDD):\n",
    "    header = rdd.first()\n",
    "    print(header)\n",
    "    no_header_rdd = rdd.filter(lambda row: row != header)\n",
    "    return no_header_rdd"
   ]
  },
  {
   "cell_type": "code",
   "execution_count": 23,
   "metadata": {},
   "outputs": [],
   "source": [
    "def get_id_and_title(line):\n",
    "    movie_id = line['id']\n",
    "    try:\n",
    "        movie_id = int(movie_id)\n",
    "    except (TypeError, ValueError):\n",
    "        pass\n",
    "    movie_titile = line['title']\n",
    "    return movie_id, movie_titile"
   ]
  },
  {
   "cell_type": "code",
   "execution_count": 24,
   "metadata": {},
   "outputs": [],
   "source": [
    "def get_id_and_rating_and_count(line):\n",
    "    # Result: movie_id: int, (rating: float, count: int)\n",
    "    movie_id, movie_rating = line.split(',')[1:3]\n",
    "    movie_id = int(movie_id)\n",
    "    movie_rating = float(movie_rating)\n",
    "    return movie_id, (movie_rating, 1)"
   ]
  },
  {
   "cell_type": "code",
   "execution_count": 25,
   "metadata": {},
   "outputs": [],
   "source": [
    "def sum_ratings_and_sum_counts(row_a, row_b):\n",
    "    rating_row_a, rating_row_b = row_a[0], row_b[0]\n",
    "    count_row_a, count_row_b = row_a[1], row_b[1]\n",
    "    \n",
    "    return rating_row_a+rating_row_b, count_row_a+count_row_b"
   ]
  },
  {
   "cell_type": "code",
   "execution_count": 26,
   "metadata": {},
   "outputs": [],
   "source": [
    "def get_avg_rating_and_count(row):\n",
    "    movie_id = row[0]\n",
    "    ratings_total = row[1][0]\n",
    "    ratings_count =  row[1][1]\n",
    "    avg_rating = ratings_total/ratings_count\n",
    "    return movie_id, (avg_rating, ratings_count)"
   ]
  },
  {
   "cell_type": "code",
   "execution_count": 27,
   "metadata": {},
   "outputs": [],
   "source": [
    "def get_ratings_above_500(row):\n",
    "    ratings_count = row[1][1]\n",
    "    return ratings_count >= 500"
   ]
  },
  {
   "cell_type": "code",
   "execution_count": 28,
   "metadata": {},
   "outputs": [],
   "source": [
    "def get_rating(row):\n",
    "    movie_rating = row[1][0]\n",
    "    return movie_rating"
   ]
  },
  {
   "cell_type": "markdown",
   "metadata": {},
   "source": [
    "### Drop Headers"
   ]
  },
  {
   "cell_type": "code",
   "execution_count": 29,
   "metadata": {},
   "outputs": [
    {
     "name": "stdout",
     "output_type": "stream",
     "text": [
      "userId,movieId,rating,timestamp\n"
     ]
    }
   ],
   "source": [
    "ratings = header_dropper(ratings)"
   ]
  },
  {
   "cell_type": "code",
   "execution_count": 30,
   "metadata": {
    "scrolled": true
   },
   "outputs": [
    {
     "name": "stdout",
     "output_type": "stream",
     "text": [
      "adult,belongs_to_collection,budget,genres,homepage,id,imdb_id,original_language,original_title,overview,popularity,poster_path,production_companies,production_countries,release_date,revenue,runtime,spoken_languages,status,tagline,title,video,vote_average,vote_count\n"
     ]
    }
   ],
   "source": [
    "movies_metadata = header_dropper(movies_metadata)"
   ]
  },
  {
   "cell_type": "markdown",
   "metadata": {},
   "source": [
    "### Analysis"
   ]
  },
  {
   "cell_type": "markdown",
   "metadata": {},
   "source": [
    "#### Create an RDD with highest ratings with count of ratings above 500"
   ]
  },
  {
   "cell_type": "code",
   "execution_count": 31,
   "metadata": {
    "scrolled": true
   },
   "outputs": [
    {
     "data": {
      "text/plain": [
       "['1,31,2.5,1260759144',\n",
       " '1,1029,3.0,1260759179',\n",
       " '1,1061,3.0,1260759182',\n",
       " '1,1129,2.0,1260759185',\n",
       " '1,1172,4.0,1260759205']"
      ]
     },
     "execution_count": 31,
     "metadata": {},
     "output_type": "execute_result"
    }
   ],
   "source": [
    "ratings.take(5)"
   ]
  },
  {
   "cell_type": "code",
   "execution_count": 32,
   "metadata": {},
   "outputs": [
    {
     "data": {
      "text/plain": [
       "[(31, (2.5, 1)),\n",
       " (1029, (3.0, 1)),\n",
       " (1061, (3.0, 1)),\n",
       " (1129, (2.0, 1)),\n",
       " (1172, (4.0, 1))]"
      ]
     },
     "execution_count": 32,
     "metadata": {},
     "output_type": "execute_result"
    }
   ],
   "source": [
    "movie_id_and_rating = ratings.map(get_id_and_rating_and_count)\n",
    "movie_id_and_rating.take(5)"
   ]
  },
  {
   "cell_type": "code",
   "execution_count": 33,
   "metadata": {},
   "outputs": [
    {
     "data": {
      "text/plain": [
       "[(110, (267116.0, 66512)),\n",
       " (858, (247673.0, 57070)),\n",
       " (91542, (26905.5, 7196)),\n",
       " (112552, (34837.0, 8455)),\n",
       " (1210, (250204.5, 62714))]"
      ]
     },
     "execution_count": 33,
     "metadata": {},
     "output_type": "execute_result"
    }
   ],
   "source": [
    "movie_id_and_sum_rating_and_sum_count = \\\n",
    "    movie_id_and_rating_right_formats\\\n",
    "        .reduceByKey(sum_ratings_and_sum_counts)\n",
    "movie_id_and_sum_rating_and_sum_count.take(5)"
   ]
  },
  {
   "cell_type": "code",
   "execution_count": 34,
   "metadata": {},
   "outputs": [
    {
     "data": {
      "text/plain": [
       "[(110, (4.016057252826558, 66512)),\n",
       " (858, (4.339810758717364, 57070)),\n",
       " (91542, (3.738952195664258, 7196)),\n",
       " (112552, (4.120283855706682, 8455)),\n",
       " (1210, (3.9896115699843735, 62714))]"
      ]
     },
     "execution_count": 34,
     "metadata": {},
     "output_type": "execute_result"
    }
   ],
   "source": [
    "movie_id_and_avg_rating_and_count = \\\n",
    "    movie_id_and_sum_rating_and_sum_count\\\n",
    "        .map(get_avg_rating_and_count)\n",
    "movie_id_and_avg_rating_and_count.take(5)"
   ]
  },
  {
   "cell_type": "code",
   "execution_count": 36,
   "metadata": {},
   "outputs": [
    {
     "data": {
      "text/plain": [
       "[(110, (4.016057252826558, 66512)),\n",
       " (858, (4.339810758717364, 57070)),\n",
       " (91542, (3.738952195664258, 7196)),\n",
       " (112552, (4.120283855706682, 8455)),\n",
       " (1210, (3.9896115699843735, 62714))]"
      ]
     },
     "execution_count": 36,
     "metadata": {},
     "output_type": "execute_result"
    }
   ],
   "source": [
    "movie_id_and_avg_rating_and_count_above_500 = \\\n",
    "    movie_id_and_avg_rating_and_count\\\n",
    "        .filter(get_ratings_above_500)\n",
    "movie_id_and_avg_rating_and_count_above_500.take(5)"
   ]
  },
  {
   "cell_type": "code",
   "execution_count": 37,
   "metadata": {},
   "outputs": [
    {
     "data": {
      "text/plain": [
       "[(159817, (4.478779840848806, 754)),\n",
       " (318, (4.429014514393623, 91082)),\n",
       " (858, (4.339810758717364, 57070)),\n",
       " (50, (4.300188962561792, 59271)),\n",
       " (527, (4.266530696698294, 67662)),\n",
       " (1221, (4.263475012950189, 36679)),\n",
       " (2019, (4.255073602972702, 13994)),\n",
       " (904, (4.232552144363722, 21335)),\n",
       " (1203, (4.231208570075758, 16896)),\n",
       " (2959, (4.2307160469145675, 60024))]"
      ]
     },
     "execution_count": 37,
     "metadata": {},
     "output_type": "execute_result"
    }
   ],
   "source": [
    "movie_id_and_avg_rating_and_count_above_500_ordered_by_rating = \\\n",
    "    movie_id_and_avg_rating_and_count_above_500\\\n",
    "        .sortBy(get_rating, False)\n",
    "movie_id_and_avg_rating_and_count_above_500_ordered_by_rating.take(10)"
   ]
  },
  {
   "cell_type": "markdown",
   "metadata": {},
   "source": [
    "#### Create an RDD movie_id and movie_title"
   ]
  },
  {
   "cell_type": "code",
   "execution_count": 38,
   "metadata": {
    "scrolled": true
   },
   "outputs": [
    {
     "data": {
      "text/plain": [
       "pyspark.rdd.RDD"
      ]
     },
     "execution_count": 38,
     "metadata": {},
     "output_type": "execute_result"
    }
   ],
   "source": [
    "# movie_medadata file is actually quite broken and it'd be hard \n",
    "#to read it and clean it in a form of RDD so I will use \n",
    "# DF for convenience and transform it to RDD.\n",
    "movies_metadata = spark.read.csv(\n",
    "    path=path_movies_metadata,\n",
    "    header=\"true\",\n",
    "    inferSchema=\"true\",\n",
    ")\n",
    "\n",
    "movies_metadata = movies_metadata.rdd\n",
    "type(movies_metadata)"
   ]
  },
  {
   "cell_type": "code",
   "execution_count": 39,
   "metadata": {},
   "outputs": [],
   "source": [
    "movide_id_and_title = movies_metadata.map(get_id_and_title)"
   ]
  },
  {
   "cell_type": "markdown",
   "metadata": {},
   "source": [
    "#### Join the above RDDs and return the final result"
   ]
  },
  {
   "cell_type": "code",
   "execution_count": 40,
   "metadata": {},
   "outputs": [
    {
     "data": {
      "text/plain": [
       "(159817, (4.478779840848806, 754))"
      ]
     },
     "execution_count": 40,
     "metadata": {},
     "output_type": "execute_result"
    }
   ],
   "source": [
    "movie_id_and_avg_rating_and_count_above_500_ordered_by_rating.first()"
   ]
  },
  {
   "cell_type": "code",
   "execution_count": 41,
   "metadata": {},
   "outputs": [
    {
     "data": {
      "text/plain": [
       "(862, 'Toy Story')"
      ]
     },
     "execution_count": 41,
     "metadata": {},
     "output_type": "execute_result"
    }
   ],
   "source": [
    "movide_id_and_title.first()"
   ]
  },
  {
   "cell_type": "code",
   "execution_count": 42,
   "metadata": {
    "scrolled": true
   },
   "outputs": [],
   "source": [
    "results = movie_id_and_avg_rating_and_count_above_500_ordered_by_rating\\\n",
    "    .join(movide_id_and_title)"
   ]
  },
  {
   "cell_type": "markdown",
   "metadata": {},
   "source": [
    "#### RESULTS"
   ]
  },
  {
   "cell_type": "code",
   "execution_count": 45,
   "metadata": {
    "scrolled": true
   },
   "outputs": [
    {
     "data": {
      "text/plain": [
       "[(527, ((4.266530696698294, 67662), 'Once Were Warriors')),\n",
       " (58559, ((4.182070707070707, 39600), 'Confession of a Child of the Century')),\n",
       " (899, ((4.02758537371134, 12416), 'Broken Blossoms')),\n",
       " (3007, ((3.9069042316258353, 2245), 'Woman in the Moon')),\n",
       " (1643, ((3.8609756097560974, 2870), 'Last Tango in Paris')),\n",
       " (5177, ((3.8438320209973753, 762), 'Dark Horse')),\n",
       " (5890, ((3.8422360248447207, 805), 'Azumi 2: Death or Love')),\n",
       " (2728, ((3.8367664877964343, 5777), 'Postal')),\n",
       " (26133, ((3.813053097345133, 1356), 'Tuesdays with Morrie')),\n",
       " (62, ((3.750324282255275, 23128), '2001: A Space Odyssey'))]"
      ]
     },
     "execution_count": 45,
     "metadata": {},
     "output_type": "execute_result"
    }
   ],
   "source": [
    "results.take(10)"
   ]
  }
 ],
 "metadata": {
  "kernelspec": {
   "display_name": "Python [conda env:base-all_small_projects] *",
   "language": "python",
   "name": "conda-env-base-all_small_projects-py"
  },
  "language_info": {
   "codemirror_mode": {
    "name": "ipython",
    "version": 3
   },
   "file_extension": ".py",
   "mimetype": "text/x-python",
   "name": "python",
   "nbconvert_exporter": "python",
   "pygments_lexer": "ipython3",
   "version": "3.7.5"
  },
  "latex_envs": {
   "LaTeX_envs_menu_present": true,
   "autoclose": true,
   "autocomplete": true,
   "bibliofile": "biblio.bib",
   "cite_by": "apalike",
   "current_citInitial": 1,
   "eqLabelWithNumbers": true,
   "eqNumInitial": 1,
   "hotkeys": {
    "equation": "Ctrl-E",
    "itemize": "Ctrl-I"
   },
   "labels_anchors": false,
   "latex_user_defs": false,
   "report_style_numbering": false,
   "user_envs_cfg": false
  },
  "toc": {
   "base_numbering": 1,
   "nav_menu": {},
   "number_sections": true,
   "sideBar": true,
   "skip_h1_title": false,
   "title_cell": "Table of Contents",
   "title_sidebar": "Contents",
   "toc_cell": false,
   "toc_position": {},
   "toc_section_display": true,
   "toc_window_display": false
  }
 },
 "nbformat": 4,
 "nbformat_minor": 4
}
