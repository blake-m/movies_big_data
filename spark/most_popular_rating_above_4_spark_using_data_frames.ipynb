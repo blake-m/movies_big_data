{
 "cells": [
  {
   "cell_type": "code",
   "execution_count": 52,
   "metadata": {},
   "outputs": [],
   "source": [
    "import findspark\n",
    "findspark.init()\n",
    "\n",
    "import pyspark\n",
    "from pyspark import sql\n",
    "\n",
    "import pandas as pd"
   ]
  },
  {
   "cell_type": "code",
   "execution_count": 53,
   "metadata": {},
   "outputs": [],
   "source": [
    "spark = SparkSession\\\n",
    "    .builder\\\n",
    "    .appName(\"MostPopularMovieWithRatingAbove4DataFrames\")\\\n",
    "    .getOrCreate()"
   ]
  },
  {
   "cell_type": "code",
   "execution_count": 54,
   "metadata": {},
   "outputs": [],
   "source": [
    "path_ratings = r\"/home/blake/PycharmProjects/BigDataMovies/the-movies-dataset/ratings.csv\"\n",
    "path_movies_metadata = r\"/home/blake/PycharmProjects/BigDataMovies/the-movies-dataset/movies_metadata.csv\"\n",
    "\n",
    "ratings = spark.read.csv(\n",
    "    path=path_ratings,\n",
    "    header=\"true\",\n",
    "    inferSchema=\"true\"\n",
    ")\n",
    "\n",
    "movies_metadata = spark.read.csv(\n",
    "    path=path_movies_metadata,\n",
    "    header=\"true\",\n",
    "    inferSchema=\"true\",\n",
    ")"
   ]
  },
  {
   "cell_type": "code",
   "execution_count": 55,
   "metadata": {},
   "outputs": [
    {
     "data": {
      "text/plain": [
       "DataFrame[userId: int, movieId: int, rating: double, timestamp: int]"
      ]
     },
     "execution_count": 55,
     "metadata": {},
     "output_type": "execute_result"
    }
   ],
   "source": [
    "ratings"
   ]
  },
  {
   "cell_type": "code",
   "execution_count": 56,
   "metadata": {},
   "outputs": [
    {
     "data": {
      "text/plain": [
       "DataFrame[adult: string, belongs_to_collection: string, budget: string, genres: string, homepage: string, id: string, imdb_id: string, original_language: string, original_title: string, overview: string, popularity: string, poster_path: string, production_companies: string, production_countries: string, release_date: string, revenue: string, runtime: string, spoken_languages: string, status: string, tagline: string, title: string, video: string, vote_average: string, vote_count: string]"
      ]
     },
     "execution_count": 56,
     "metadata": {},
     "output_type": "execute_result"
    }
   ],
   "source": [
    "movies_metadata"
   ]
  },
  {
   "cell_type": "code",
   "execution_count": 57,
   "metadata": {},
   "outputs": [
    {
     "data": {
      "text/plain": [
       "[Row(id='862', original_title='Toy Story'),\n",
       " Row(id='8844', original_title='Jumanji'),\n",
       " Row(id='15602', original_title='Grumpier Old Men'),\n",
       " Row(id='31357', original_title='Waiting to Exhale'),\n",
       " Row(id='11862', original_title='Father of the Bride Part II')]"
      ]
     },
     "execution_count": 57,
     "metadata": {},
     "output_type": "execute_result"
    }
   ],
   "source": [
    "movies_metadata = movies_metadata[['id', 'original_title']]\n",
    "movies_metadata.take(5)"
   ]
  },
  {
   "cell_type": "code",
   "execution_count": 58,
   "metadata": {},
   "outputs": [
    {
     "data": {
      "text/plain": [
       "[Row(movieId=1645, avg(rating)=3.516589990241182),\n",
       " Row(movieId=1591, avg(rating)=2.6416020262782967),\n",
       " Row(movieId=3175, avg(rating)=3.586550320670942),\n",
       " Row(movieId=1580, avg(rating)=3.5733178489322874),\n",
       " Row(movieId=68135, avg(rating)=3.097457627118644)]"
      ]
     },
     "execution_count": 58,
     "metadata": {},
     "output_type": "execute_result"
    }
   ],
   "source": [
    "avg_ratings = ratings\\\n",
    "    .groupBy('movieId')\\\n",
    "    .mean('rating')\n",
    "avg_ratings.take(5)"
   ]
  },
  {
   "cell_type": "code",
   "execution_count": 59,
   "metadata": {
    "scrolled": true
   },
   "outputs": [
    {
     "data": {
      "text/plain": [
       "[Row(movieId=1645, count=14346),\n",
       " Row(movieId=1591, count=6317),\n",
       " Row(movieId=3175, count=16216),\n",
       " Row(movieId=1580, count=42193),\n",
       " Row(movieId=68135, count=2478)]"
      ]
     },
     "execution_count": 59,
     "metadata": {},
     "output_type": "execute_result"
    }
   ],
   "source": [
    "count_ratings = ratings\\\n",
    "    .groupBy('movieId')\\\n",
    "    .count()\n",
    "count_ratings.take(5)"
   ]
  },
  {
   "cell_type": "code",
   "execution_count": 60,
   "metadata": {},
   "outputs": [
    {
     "data": {
      "text/plain": [
       "[Row(movieId=1645, count=14346),\n",
       " Row(movieId=1591, count=6317),\n",
       " Row(movieId=3175, count=16216),\n",
       " Row(movieId=1580, count=42193),\n",
       " Row(movieId=68135, count=2478)]"
      ]
     },
     "execution_count": 60,
     "metadata": {},
     "output_type": "execute_result"
    }
   ],
   "source": [
    "count_ratings_above_500 = count_ratings\\\n",
    "    .filter(count_ratings['count'] > 500)\n",
    "count_ratings_above_500.take(5)"
   ]
  },
  {
   "cell_type": "code",
   "execution_count": 61,
   "metadata": {
    "scrolled": true
   },
   "outputs": [
    {
     "data": {
      "text/plain": [
       "[Row(movieId=471, avg(rating)=3.654817548175482, count=12195),\n",
       " Row(movieId=833, avg(rating)=2.7146546158812135, count=1549),\n",
       " Row(movieId=1088, avg(rating)=3.239810636881426, count=13519),\n",
       " Row(movieId=1238, avg(rating)=3.9629796163069546, count=3336),\n",
       " Row(movieId=1342, avg(rating)=2.9637979902087093, count=3881)]"
      ]
     },
     "execution_count": 61,
     "metadata": {},
     "output_type": "execute_result"
    }
   ],
   "source": [
    "avg_ratings_and_counts = avg_ratings.join(\n",
    "    count_ratings_above_500, on='movieId')\n",
    "\n",
    "avg_ratings_and_counts.take(5)"
   ]
  },
  {
   "cell_type": "code",
   "execution_count": 62,
   "metadata": {},
   "outputs": [
    {
     "data": {
      "text/plain": [
       "[Row(movieId=471, avg(rating)=3.654817548175482, count=12195, id='471', original_title='Bandyta'),\n",
       " Row(movieId=833, avg(rating)=2.7146546158812135, count=1549, id='833', original_title='Umberto D.'),\n",
       " Row(movieId=1088, avg(rating)=3.239810636881426, count=13519, id='1088', original_title='Whale Rider'),\n",
       " Row(movieId=1580, avg(rating)=3.5733178489322874, count=42193, id='1580', original_title='Rope'),\n",
       " Row(movieId=1591, avg(rating)=2.6416020262782967, count=6317, id='1591', original_title='Nirgendwo in Afrika')]"
      ]
     },
     "execution_count": 62,
     "metadata": {},
     "output_type": "execute_result"
    }
   ],
   "source": [
    "movie_titles_avg_ratings_and_counts = avg_ratings_and_counts\\\n",
    "    .join(movies_metadata, \n",
    "          avg_ratings_and_counts['movieId']\n",
    "          == movies_metadata['id'])\n",
    "\n",
    "movie_titles_avg_ratings_and_counts.take(5)"
   ]
  },
  {
   "cell_type": "code",
   "execution_count": 63,
   "metadata": {},
   "outputs": [
    {
     "data": {
      "text/plain": [
       "[Row(movieId=318, avg(rating)=4.429014514393623, count=91082, id='318', original_title='The Million Dollar Hotel'),\n",
       " Row(movieId=858, avg(rating)=4.339810758717364, count=57070, id='858', original_title='Sleepless in Seattle'),\n",
       " Row(movieId=527, avg(rating)=4.266530696698294, count=67662, id='527', original_title='Once Were Warriors'),\n",
       " Row(movieId=2019, avg(rating)=4.255073602972702, count=13994, id='2019', original_title='Hard Target'),\n",
       " Row(movieId=2959, avg(rating)=4.2307160469145675, count=60024, id='2959', original_title='License to Wed')]"
      ]
     },
     "execution_count": 63,
     "metadata": {},
     "output_type": "execute_result"
    }
   ],
   "source": [
    "movie_titles_avg_ratings_and_counts_sorted = \\\n",
    "    movie_titles_avg_ratings_and_counts.orderBy('avg(rating)', ascending=False)\n",
    "movie_titles_avg_ratings_and_counts_sorted.take(5)"
   ]
  },
  {
   "cell_type": "code",
   "execution_count": 64,
   "metadata": {},
   "outputs": [
    {
     "name": "stdout",
     "output_type": "stream",
     "text": [
      "+------------------------------------+------------------+-----+\n",
      "|original_title                      |avg(rating)       |count|\n",
      "+------------------------------------+------------------+-----+\n",
      "|The Million Dollar Hotel            |4.429014514393623 |91082|\n",
      "|Sleepless in Seattle                |4.339810758717364 |57070|\n",
      "|Once Were Warriors                  |4.266530696698294 |67662|\n",
      "|Hard Target                         |4.255073602972702 |13994|\n",
      "|License to Wed                      |4.2307160469145675|60024|\n",
      "|The Thomas Crown Affair             |4.2143927037912325|30043|\n",
      "|Murder She Said                     |4.213030410183875 |28280|\n",
      "|Cousin, Cousine                     |4.202589307120594 |20855|\n",
      "|Dead Man                            |4.200819672131147 |7930 |\n",
      "|三枪拍案惊奇                        |4.199038891372374 |8948 |\n",
      "|The Good Thief                      |4.187872863087181 |19947|\n",
      "|Confession of a Child of the Century|4.182070707070707 |39600|\n",
      "|End of the World                    |4.180264741275572 |4155 |\n",
      "|The Talented Mr. Ripley             |4.17828875746609  |33987|\n",
      "|Galaxy Quest                        |4.174582798459563 |5453 |\n",
      "|Terminator 3: Rise of the Machines  |4.169975313136369 |87901|\n",
      "|Local Color                         |4.167062784709843 |25245|\n",
      "|Torrente 2: Misión en Marbella      |4.163652229097255 |6303 |\n",
      "|Leiutajateküla Lotte                |4.163554278678432 |4873 |\n",
      "|Lonely Hearts                       |4.157715931945426 |18397|\n",
      "+------------------------------------+------------------+-----+\n",
      "only showing top 20 rows\n",
      "\n"
     ]
    }
   ],
   "source": [
    "results = movie_titles_avg_ratings_and_counts_sorted[[\n",
    "    'original_title', 'avg(rating)', 'count'\n",
    "]]\n",
    "results.show(truncate=False)"
   ]
  }
 ],
 "metadata": {
  "kernelspec": {
   "display_name": "Python [conda env:base-all_small_projects] *",
   "language": "python",
   "name": "conda-env-base-all_small_projects-py"
  },
  "language_info": {
   "codemirror_mode": {
    "name": "ipython",
    "version": 3
   },
   "file_extension": ".py",
   "mimetype": "text/x-python",
   "name": "python",
   "nbconvert_exporter": "python",
   "pygments_lexer": "ipython3",
   "version": "3.7.5"
  },
  "latex_envs": {
   "LaTeX_envs_menu_present": true,
   "autoclose": true,
   "autocomplete": true,
   "bibliofile": "biblio.bib",
   "cite_by": "apalike",
   "current_citInitial": 1,
   "eqLabelWithNumbers": true,
   "eqNumInitial": 1,
   "hotkeys": {
    "equation": "Ctrl-E",
    "itemize": "Ctrl-I"
   },
   "labels_anchors": false,
   "latex_user_defs": false,
   "report_style_numbering": false,
   "user_envs_cfg": false
  },
  "toc": {
   "base_numbering": 1,
   "nav_menu": {},
   "number_sections": true,
   "sideBar": true,
   "skip_h1_title": false,
   "title_cell": "Table of Contents",
   "title_sidebar": "Contents",
   "toc_cell": false,
   "toc_position": {},
   "toc_section_display": true,
   "toc_window_display": false
  }
 },
 "nbformat": 4,
 "nbformat_minor": 4
}
